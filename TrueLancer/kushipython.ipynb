{
 "cells": [
  {
   "cell_type": "code",
   "execution_count": 2,
   "metadata": {},
   "outputs": [],
   "source": [
    "import nltk\n",
    "import os\n",
    "import _sqlite3\n",
    "from nltk.corpus import PlaintextCorpusReader\n",
    "from nltk import sent_tokenize, word_tokenize\n",
    "from gensim import corpora, models, similarities\n",
    "from gensim.models.ldamodel import LdaModel\n",
    "from gensim.parsing.preprocessing import STOPWORDS\n",
    "from gensim.similarities.docsim import Similarity"
   ]
  },
  {
   "cell_type": "code",
   "execution_count": 2,
   "metadata": {},
   "outputs": [
    {
     "data": {
      "text/plain": [
       "[('Acrion', 'Philosophers/Acrion.html'),\n",
       " ('Adrastus of Aphrodisias', 'Philosophers/Adrastus of Aphrodisias.html'),\n",
       " ('Aedesia', 'Philosophers/Aedesia.html'),\n",
       " ('Aedesius', 'Philosophers/Aedesius.html'),\n",
       " ('Aeneas of Gaza', 'Philosophers/Aeneas of Gaza.html'),\n",
       " ('Aenesidemus', 'Philosophers/Aenesidemus.html'),\n",
       " ('Aesara', 'Philosophers/Aesara.html'),\n",
       " ('Aeschines of Neapolis', 'Philosophers/Aeschines of Neapolis.html'),\n",
       " ('Aeschines of Sphettus', 'Philosophers/Aeschines of Sphettus.html'),\n",
       " ('Aetius', 'Philosophers/Aetius.html'),\n",
       " ('Agapius', 'Philosophers/Agapius.html'),\n",
       " ('Agathobulus', 'Philosophers/Agathobulus.html'),\n",
       " ('Agathosthenes', 'Philosophers/Agathosthenes.html'),\n",
       " ('Agrippa the Skeptic', 'Philosophers/Agrippa the Skeptic.html'),\n",
       " ('Albinus', 'Philosophers/Albinus.html'),\n",
       " ('Alcinous', 'Philosophers/Alcinous.html'),\n",
       " ('Alcmaeon of Croton', 'Philosophers/Alcmaeon of Croton.html'),\n",
       " ('Alexamenus of Teos', 'Philosophers/Alexamenus of Teos.html'),\n",
       " ('Alexander of Aegae', 'Philosophers/Alexander of Aegae.html'),\n",
       " ('Alexander of Aphrodisias', 'Philosophers/Alexander of Aphrodisias.html'),\n",
       " ('Alexicrates', 'Philosophers/Alexicrates.html'),\n",
       " ('Alexinus', 'Philosophers/Alexinus.html'),\n",
       " ('Amelius', 'Philosophers/Amelius.html'),\n",
       " ('Ammonius Hermiae', 'Philosophers/Ammonius Hermiae.html'),\n",
       " ('Ammonius of Athens', 'Philosophers/Ammonius of Athens.html'),\n",
       " ('Ammonius Saccas', 'Philosophers/Ammonius Saccas.html'),\n",
       " ('Anaxagoras', 'Philosophers/Anaxagoras.html'),\n",
       " ('Anaxarchus', 'Philosophers/Anaxarchus.html'),\n",
       " ('Anaxilaus', 'Philosophers/Anaxilaus.html'),\n",
       " ('Anaximander', 'Philosophers/Anaximander.html'),\n",
       " ('Anaximenes of Miletus', 'Philosophers/Anaximenes of Miletus.html'),\n",
       " ('Androcydes', 'Philosophers/Androcydes.html'),\n",
       " ('Andronicus of Rhodes', 'Philosophers/Andronicus of Rhodes.html'),\n",
       " ('Anniceris', 'Philosophers/Anniceris.html'),\n",
       " ('Antiochus of Ascalon', 'Philosophers/Antiochus of Ascalon.html'),\n",
       " ('Antipater of Cyrene', 'Philosophers/Antipater of Cyrene.html'),\n",
       " ('Antipater of Tarsus', 'Philosophers/Antipater of Tarsus.html'),\n",
       " ('Antipater of Tyre', 'Philosophers/Antipater of Tyre.html'),\n",
       " ('Antisthenes', 'Philosophers/Antisthenes.html'),\n",
       " ('Antoninus', 'Philosophers/Antoninus.html'),\n",
       " ('Apollodorus of Athens', 'Philosophers/Apollodorus of Athens.html'),\n",
       " ('Apollodorus of Seleucia', 'Philosophers/Apollodorus of Seleucia.html'),\n",
       " ('Apollodorus the Epicurean', 'Philosophers/Apollodorus the Epicurean.html'),\n",
       " ('Apollonius Cronus', 'Philosophers/Apollonius Cronus.html'),\n",
       " ('Apollonius of Tyana', 'Philosophers/Apollonius of Tyana.html'),\n",
       " ('Apollonius of Tyre', 'Philosophers/Apollonius of Tyre.html'),\n",
       " ('Arcesilaus', 'Philosophers/Arcesilaus.html'),\n",
       " ('Archedemus of Tarsus', 'Philosophers/Archedemus of Tarsus.html'),\n",
       " ('Archelaus', 'Philosophers/Archelaus.html'),\n",
       " ('Archytas', 'Philosophers/Archytas.html'),\n",
       " ('Arete of Cyrene', 'Philosophers/Arete of Cyrene.html'),\n",
       " ('Arignote', 'Philosophers/Arignote.html'),\n",
       " ('Aristarchus of Samos', 'Philosophers/Aristarchus of Samos.html'),\n",
       " ('Aristippus', 'Philosophers/Aristippus.html'),\n",
       " ('Aristippus the Younger', 'Philosophers/Aristippus the Younger.html'),\n",
       " ('Aristoclea', 'Philosophers/Aristoclea.html'),\n",
       " ('Aristocles of Messene', 'Philosophers/Aristocles of Messene.html'),\n",
       " ('Aristocreon', 'Philosophers/Aristocreon.html'),\n",
       " ('Aristo of Alexandria', 'Philosophers/Aristo of Alexandria.html'),\n",
       " ('Aristo of Ceos', 'Philosophers/Aristo of Ceos.html'),\n",
       " ('Aristo of Chios', 'Philosophers/Aristo of Chios.html'),\n",
       " ('Aristotle', 'Philosophers/Aristotle.html'),\n",
       " ('Aristotle of Cyrene', 'Philosophers/Aristotle of Cyrene.html'),\n",
       " ('Aristotle of Mytilene', 'Philosophers/Aristotle of Mytilene.html'),\n",
       " ('Aristoxenus', 'Philosophers/Aristoxenus.html'),\n",
       " ('Arius Didymus', 'Philosophers/Arius Didymus.html'),\n",
       " ('Asclepiades of Phlius', 'Philosophers/Asclepiades of Phlius.html'),\n",
       " ('Asclepiades the Cynic', 'Philosophers/Asclepiades the Cynic.html'),\n",
       " ('Asclepigenia', 'Philosophers/Asclepigenia.html'),\n",
       " ('Asclepiodotus', 'Philosophers/Asclepiodotus.html'),\n",
       " ('Asclepiodotus of Alexandria',\n",
       "  'Philosophers/Asclepiodotus of Alexandria.html'),\n",
       " ('Aspasius', 'Philosophers/Aspasius.html'),\n",
       " ('Athenaeus of Seleucia', 'Philosophers/Athenaeus of Seleucia.html'),\n",
       " ('Athenodoros Cananites', 'Philosophers/Athenodoros Cananites.html'),\n",
       " ('Athenodoros Cordylion', 'Philosophers/Athenodoros Cordylion.html'),\n",
       " ('Athenodorus of Soli', 'Philosophers/Athenodorus of Soli.html'),\n",
       " ('Attalus', 'Philosophers/Attalus.html'),\n",
       " ('Atticus', 'Philosophers/Atticus.html'),\n",
       " ('Basilides (Stoic)', 'Philosophers/Basilides (Stoic).html'),\n",
       " ('Tisias', 'Philosophers/Tisias.html'),\n",
       " ('Xenarchus of Seleucia', 'Philosophers/Xenarchus of Seleucia.html'),\n",
       " ('Xeniades', 'Philosophers/Xeniades.html'),\n",
       " ('Xenocrates', 'Philosophers/Xenocrates.html'),\n",
       " ('Xenophanes of Colophon', 'Philosophers/Xenophanes of Colophon.html'),\n",
       " ('Xenophilus', 'Philosophers/Xenophilus.html'),\n",
       " ('Xenophon', 'Philosophers/Xenophon.html'),\n",
       " ('Zenobius', 'Philosophers/Zenobius.html'),\n",
       " ('Zenodotus', 'Philosophers/Zenodotus.html'),\n",
       " ('Zeno of Citium', 'Philosophers/Zeno of Citium.html'),\n",
       " ('Zeno of Elea', 'Philosophers/Zeno of Elea.html'),\n",
       " ('Zeno of Sidon', 'Philosophers/Zeno of Sidon.html'),\n",
       " ('Zeno of Tarsus', 'Philosophers/Zeno of Tarsus.html')]"
      ]
     },
     "execution_count": 2,
     "metadata": {},
     "output_type": "execute_result"
    }
   ],
   "source": [
    "def get_philosophers(filename):\n",
    "    \n",
    "    import codecs\n",
    "    from bs4 import BeautifulSoup\n",
    "    f = codecs.open(filename, 'r', 'utf-8')\n",
    "    soup = BeautifulSoup(f.read(), 'lxml')\n",
    "    table = soup.find('table', {'class':'wikitable sortable'})\n",
    "    filenames = []\n",
    "    for row in table.findAll('tr'):\n",
    "        col = row.findAll('td')\n",
    "        if (len(col) > 0):\n",
    "            philo = col[0].find('a').text\n",
    "            filenames.append((philo, 'Philosophers/'+philo+'.html'))\n",
    "    return filenames\n",
    "    \n",
    "\n",
    "filenames = get_philosophers(\"Index.html\")\n",
    "filenames"
   ]
  },
  {
   "cell_type": "code",
   "execution_count": 3,
   "metadata": {},
   "outputs": [
    {
     "data": {
      "text/plain": [
       "'Acrion was a Locrian and a Pythagorean philosopher.[1]  He is mentioned by Valerius Maximus[2] under the name of Arion. According to William Smith, Arion is a false reading, instead of Acrion.[3]\\n'"
      ]
     },
     "execution_count": 3,
     "metadata": {},
     "output_type": "execute_result"
    }
   ],
   "source": [
    "def get_text(file):\n",
    "    \n",
    "    import codecs\n",
    "    from bs4 import BeautifulSoup\n",
    "    f = codecs.open(file, 'r', 'utf-8')\n",
    "    page_soup = BeautifulSoup(f.read(), 'lxml')\n",
    "    all_text = ''\n",
    "    for tag in page_soup.find_all('p'):\n",
    "        all_text += tag.get_text()\n",
    "    return all_text\n",
    "    \n",
    "get_text('Philosophers/Acrion.html')"
   ]
  },
  {
   "cell_type": "code",
   "execution_count": 4,
   "metadata": {},
   "outputs": [],
   "source": [
    "def run(filenames):\n",
    "    \n",
    "    return \n",
    "    \n",
    "run(filenames)"
   ]
  },
  {
   "cell_type": "code",
   "execution_count": 3,
   "metadata": {},
   "outputs": [],
   "source": [
    "import logging\n",
    "logging.basicConfig(format='%(asctime)s : %(levelname)s : %(message)s', level=logging.INFO)"
   ]
  },
  {
   "cell_type": "code",
   "execution_count": 4,
   "metadata": {},
   "outputs": [],
   "source": [
    "from gensim import corpora\n",
    "\n",
    "documents = [\"Human machine interface for lab abc computer applications\",\n",
    "             \"A survey of user opinion of computer system response time\",\n",
    "             \"The EPS user interface management system\",\n",
    "             \"System and human system engineering testing of EPS\",\n",
    "             \"Relation of user perceived response time to error measurement\",\n",
    "             \"The generation of random binary unordered trees\",\n",
    "             \"The intersection graph of paths in trees\",\n",
    "             \"Graph minors IV Widths of trees and well quasi ordering\",\n",
    "             \"Graph minors A survey\"]"
   ]
  },
  {
   "cell_type": "code",
   "execution_count": 5,
   "metadata": {},
   "outputs": [
    {
     "name": "stdout",
     "output_type": "stream",
     "text": [
      "[['human', 'interface', 'computer'],\n",
      " ['survey', 'user', 'computer', 'system', 'response', 'time'],\n",
      " ['eps', 'user', 'interface', 'system'],\n",
      " ['system', 'human', 'system', 'eps'],\n",
      " ['user', 'response', 'time'],\n",
      " ['trees'],\n",
      " ['graph', 'trees'],\n",
      " ['graph', 'minors', 'trees'],\n",
      " ['graph', 'minors', 'survey']]\n"
     ]
    }
   ],
   "source": [
    "stoplist = set('for a of the and to in'.split())\n",
    "texts = [[word for word in document.lower().split() if word not in stoplist]\n",
    "          for document in documents]\n",
    "\n",
    "from collections import defaultdict\n",
    "frequency = defaultdict(int)\n",
    "for text in texts:\n",
    "    for token in text:\n",
    "        frequency[token] += 1\n",
    "\n",
    "texts = [[token for token in text if frequency[token] > 1]\n",
    "          for text in texts]\n",
    "\n",
    "from pprint import pprint  # pretty-printer\n",
    "pprint(texts)"
   ]
  },
  {
   "cell_type": "code",
   "execution_count": 6,
   "metadata": {},
   "outputs": [
    {
     "name": "stderr",
     "output_type": "stream",
     "text": [
      "2020-11-10 17:22:53,102 : INFO : adding document #0 to Dictionary(0 unique tokens: [])\n",
      "2020-11-10 17:22:53,104 : INFO : built Dictionary(12 unique tokens: ['computer', 'human', 'interface', 'response', 'survey']...) from 9 documents (total 29 corpus positions)\n",
      "2020-11-10 17:22:53,105 : INFO : saving Dictionary object under /tmp/deerwester.dict, separately None\n",
      "2020-11-10 17:22:53,107 : INFO : saved /tmp/deerwester.dict\n"
     ]
    },
    {
     "name": "stdout",
     "output_type": "stream",
     "text": [
      "Dictionary(12 unique tokens: ['computer', 'human', 'interface', 'response', 'survey']...)\n",
      "{'computer': 0, 'human': 1, 'interface': 2, 'response': 3, 'survey': 4, 'system': 5, 'time': 6, 'user': 7, 'eps': 8, 'trees': 9, 'graph': 10, 'minors': 11}\n"
     ]
    }
   ],
   "source": [
    "dictionary = corpora.Dictionary(texts)\n",
    "dictionary.save('/tmp/deerwester.dict')\n",
    "print(dictionary)\n",
    "print(dictionary.token2id)"
   ]
  },
  {
   "cell_type": "code",
   "execution_count": 7,
   "metadata": {},
   "outputs": [
    {
     "name": "stdout",
     "output_type": "stream",
     "text": [
      "[(0, 1), (1, 1)]\n"
     ]
    }
   ],
   "source": [
    "new_doc = \"Human computer interaction\"\n",
    "new_vec = dictionary.doc2bow(new_doc.lower().split())\n",
    "print(new_vec)"
   ]
  },
  {
   "cell_type": "code",
   "execution_count": 8,
   "metadata": {},
   "outputs": [
    {
     "name": "stderr",
     "output_type": "stream",
     "text": [
      "2020-11-10 17:22:58,363 : INFO : storing corpus in Matrix Market format to /tmp/deerwester.mm\n",
      "2020-11-10 17:22:58,365 : INFO : saving sparse matrix to /tmp/deerwester.mm\n",
      "2020-11-10 17:22:58,367 : INFO : PROGRESS: saving document #0\n",
      "2020-11-10 17:22:58,368 : INFO : saved 9x12 matrix, density=25.926% (28/108)\n",
      "2020-11-10 17:22:58,370 : INFO : saving MmCorpus index to /tmp/deerwester.mm.index\n"
     ]
    },
    {
     "name": "stdout",
     "output_type": "stream",
     "text": [
      "[[(0, 1), (1, 1), (2, 1)], [(0, 1), (3, 1), (4, 1), (5, 1), (6, 1), (7, 1)], [(2, 1), (5, 1), (7, 1), (8, 1)], [(1, 1), (5, 2), (8, 1)], [(3, 1), (6, 1), (7, 1)], [(9, 1)], [(9, 1), (10, 1)], [(9, 1), (10, 1), (11, 1)], [(4, 1), (10, 1), (11, 1)]]\n"
     ]
    }
   ],
   "source": [
    "corpus = [dictionary.doc2bow(text) for text in texts]\n",
    "corpora.MmCorpus.serialize('/tmp/deerwester.mm', corpus)\n",
    "print(corpus)"
   ]
  },
  {
   "cell_type": "code",
   "execution_count": null,
   "metadata": {},
   "outputs": [],
   "source": []
  }
 ],
 "metadata": {
  "kernelspec": {
   "display_name": "Python 3",
   "language": "python",
   "name": "python3"
  },
  "language_info": {
   "codemirror_mode": {
    "name": "ipython",
    "version": 3
   },
   "file_extension": ".py",
   "mimetype": "text/x-python",
   "name": "python",
   "nbconvert_exporter": "python",
   "pygments_lexer": "ipython3",
   "version": "3.8.6"
  }
 },
 "nbformat": 4,
 "nbformat_minor": 4
}
